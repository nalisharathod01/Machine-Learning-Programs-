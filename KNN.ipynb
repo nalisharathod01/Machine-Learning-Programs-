{
 "cells": [
  {
   "cell_type": "code",
   "execution_count": 45,
   "metadata": {},
   "outputs": [],
   "source": [
    "import pandas as pd\n",
    "import numpy as np\n",
    "import math\n",
    "import random\n",
    "import operator"
   ]
  },
  {
   "cell_type": "code",
   "execution_count": 46,
   "metadata": {},
   "outputs": [],
   "source": [
    "#Calculate  mean\n",
    "def mean(n):\n",
    "    return sum(n)/float(len(n))"
   ]
  },
  {
   "cell_type": "code",
   "execution_count": 47,
   "metadata": {},
   "outputs": [],
   "source": [
    "#Calculate Standard Deviation\n",
    "def standDeviation(n):\n",
    "    avg = mean(n)\n",
    "    variance = sum([(x-avg)**2 for x in n]) / float(len(n)-1)\n",
    "    return np.sqrt(variance)"
   ]
  },
  {
   "cell_type": "code",
   "execution_count": 48,
   "metadata": {},
   "outputs": [],
   "source": [
    "#Normalization the column\n",
    "def normalize(x):\n",
    "    return (x-mean(x))/ standDeviation(x)"
   ]
  },
  {
   "cell_type": "code",
   "execution_count": 49,
   "metadata": {},
   "outputs": [],
   "source": [
    "#Calculate the Euclidean distance\n",
    "def euclidean_distance(x1, x2):\n",
    "    distance = 0.0\n",
    "    for x in range(len(x1)-1):\n",
    "        distance += np.square(x1[x] - x2[x])\n",
    "    return np.sqrt(distance)\n"
   ]
  },
  {
   "cell_type": "code",
   "execution_count": 50,
   "metadata": {},
   "outputs": [],
   "source": [
    "#Locating the similar neighbors\n",
    "def get_neighbors(train, test_row, num_neighbors):\n",
    "    distances = list()\n",
    "    for x in train:\n",
    "        dist = euclidean_distance(test_row, x)\n",
    "        distances.append((x, dist))\n",
    "    distances.sort(key=lambda tup: tup[1])\n",
    "    neighbors = list()\n",
    "    for i in range(num_neighbors):\n",
    "        neighbors.append(distances[i][0])\n",
    "    return neighbors\n"
   ]
  },
  {
   "cell_type": "code",
   "execution_count": 51,
   "metadata": {},
   "outputs": [],
   "source": [
    "#Classification prediction with neighbors\n",
    "def predictClassification(train, test_row, num_neighbors):\n",
    "    neighbors = get_neighbors(train, test_row, num_neighbors)\n",
    "    output_values = [row[-1] for row in neighbors]\n",
    "    prediction = min(set(output_values), key=output_values.count)\n",
    "    return prediction\n"
   ]
  },
  {
   "cell_type": "code",
   "execution_count": 52,
   "metadata": {},
   "outputs": [],
   "source": [
    "#kNN Algorithm\n",
    "def k_nearest_neighbors(train, test, num_neighbors):\n",
    "    predictions = list()\n",
    "    for row in test:\n",
    "        output = predictClassification(train, row, num_neighbors)\n",
    "        predictions.append(output)\n",
    "    return(predictions)"
   ]
  },
  {
   "cell_type": "code",
   "execution_count": 53,
   "metadata": {},
   "outputs": [],
   "source": [
    "#Calculate confusion matrix\n",
    "def confusion_matrix(actual, predicted):\n",
    "    classes       = np.unique(np.concatenate((actual,predicted)))\n",
    "    confusion_mtx = np.empty((len(classes),len(classes)),dtype=np.int)\n",
    "    for i,a in enumerate(classes):\n",
    "        for j,p in enumerate(classes):\n",
    "            confusion_mtx[i,j] = np.where((actual==a)*(predicted==p))[0].shape[0]\n",
    "    return confusion_mtx"
   ]
  },
  {
   "cell_type": "code",
   "execution_count": 54,
   "metadata": {},
   "outputs": [],
   "source": [
    "#Calculate accuracy percentage\n",
    "def accuractCalculation(actual, predicted):\n",
    "    correct = 0\n",
    "    for x in range(len(actual)):\n",
    "        if actual[x] == predicted[x]:\n",
    "            correct += 1\n",
    "    return (correct/float(len(actual)))"
   ]
  },
  {
   "cell_type": "code",
   "execution_count": 55,
   "metadata": {},
   "outputs": [
    {
     "name": "stdout",
     "output_type": "stream",
     "text": [
      "Number of clusters: 9\n",
      "\n",
      "Training Set(60%) = 181 \n",
      "Test Set(20%) = 61\n",
      "Validation Set(20%) = 60\n",
      "\n",
      "\n",
      "Confusion Matrix:\n",
      " [[50 11]\n",
      " [ 0  0]]\n",
      "\n",
      "True Positive: 50\n",
      "False Positive: 11\n",
      "False Negative: 0\n",
      "True Negative: 0\n",
      "Accuracy: 0.820\n",
      "Precision: 0.820\n",
      "Recall: nan\n",
      "Fscore: nan\n"
     ]
    },
    {
     "name": "stderr",
     "output_type": "stream",
     "text": [
      "<ipython-input-55-817b5a9b7edc>:43: RuntimeWarning: invalid value encountered in true_divide\n",
      "  recall = tn / float(tn+fn)\n"
     ]
    }
   ],
   "source": [
    "#Main code\n",
    "df = pd.read_csv('heart.csv')\n",
    "data = df.to_numpy()\n",
    "for i in range(len(data)):\n",
    "    data[i] = [float(x) for x in data[i]]    \n",
    "\n",
    "#Normalize the data\n",
    "new_data1 = df.to_numpy()\n",
    "rows = [0,3,4,7,9]\n",
    "for i in rows:\n",
    "    new_data1[i] = normalize(data[i])\n",
    "    \n",
    "#Spilting the data\n",
    "m = len(new_data1)\n",
    "train_end = int(0.6 * m)\n",
    "validate_end = int(0.2 * m) + train_end\n",
    "train = data[:train_end]\n",
    "validate = data[train_end:validate_end]\n",
    "test = data[validate_end+1:]\n",
    "\n",
    "#Calculate the value of K\n",
    "t = 0.0\n",
    "for x in range(1,10):\n",
    "    pd = k_nearest_neighbors(train,validate,x)\n",
    "    act = [row[-1] for row in validate]\n",
    "    accuracy = get_accuracy(act, pd)\n",
    "    if (accuracy > t):\n",
    "        t = accuracy\n",
    "        k = x\n",
    "print(\"Number of clusters:\",k)\n",
    "\n",
    "#Calculate the prediction\n",
    "predicted = k_nearest_neighbors(train,test,k)\n",
    "actual = [row[-1] for row in test]\n",
    "results = confusion_matrix(actual, predicted)\n",
    "\n",
    "tp=results[0][0]\n",
    "fp=results[0][1]\n",
    "fn=results[1][0]\n",
    "tn=results[1][1]\n",
    "accuracy = accuractCalculation(actual, predicted)\n",
    "precision = tp / float(fp+tp)\n",
    "recall = tn / float(tn+fn)\n",
    "fscore = 2*precision*recall / float(precision + recall)\n",
    "\n",
    "#Display\n",
    "print('\\nTraining Set(60%) = {0} \\nTest Set(20%) = {1}\\nValidation Set(20%) = {2}\\n\\n'.format(len(train), len(test), len(validate)))\n",
    "print('Confusion Matrix:\\n {0}\\n'.format(results))\n",
    "print('True Positive: {0}'.format(tp))\n",
    "print('False Positive: {0}'.format(fp))\n",
    "print('False Negative: {0}'.format(fn))\n",
    "print('True Negative: {0}'.format(tn))\n",
    "print('Accuracy: %.3f' % accuracy)\n",
    "print('Precision: %.3f' % precision)\n",
    "print('Recall: %.3f' % recall)\n",
    "print('Fscore: %.3f' % fscore)"
   ]
  },
  {
   "cell_type": "code",
   "execution_count": null,
   "metadata": {},
   "outputs": [],
   "source": []
  }
 ],
 "metadata": {
  "kernelspec": {
   "display_name": "Python 3",
   "language": "python",
   "name": "python3"
  },
  "language_info": {
   "codemirror_mode": {
    "name": "ipython",
    "version": 3
   },
   "file_extension": ".py",
   "mimetype": "text/x-python",
   "name": "python",
   "nbconvert_exporter": "python",
   "pygments_lexer": "ipython3",
   "version": "3.8.3"
  }
 },
 "nbformat": 4,
 "nbformat_minor": 4
}
