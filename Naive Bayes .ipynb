{
 "cells": [
  {
   "cell_type": "code",
   "execution_count": 51,
   "metadata": {},
   "outputs": [],
   "source": [
    "import pandas as pd\n",
    "import numpy as np\n",
    "import random\n",
    "import math"
   ]
  },
  {
   "cell_type": "code",
   "execution_count": 52,
   "metadata": {},
   "outputs": [],
   "source": [
    "#Training / Gaussian\n",
    "def standDeviation(n):\n",
    "    avg = mean(n)\n",
    "    var = sum([pow(x-avg,2) for x in n])/float(len(n)-1)\n",
    "    return math.sqrt(var)"
   ]
  },
  {
   "cell_type": "code",
   "execution_count": 53,
   "metadata": {},
   "outputs": [],
   "source": [
    "def mean(n):\n",
    "    return sum(n)/float(len(n))"
   ]
  },
  {
   "cell_type": "code",
   "execution_count": 54,
   "metadata": {},
   "outputs": [],
   "source": [
    "def normalize(x):\n",
    "    return (x-mean(x))/ standDeviation(x)"
   ]
  },
  {
   "cell_type": "code",
   "execution_count": 55,
   "metadata": {},
   "outputs": [],
   "source": [
    "def training(data):\n",
    "    s = [(mean(a), standDeviation(a)) for a in zip(*data)]\n",
    "    del s[-1]\n",
    "    return s"
   ]
  },
  {
   "cell_type": "code",
   "execution_count": 56,
   "metadata": {},
   "outputs": [],
   "source": [
    "#Testing\n",
    "def Prob(x, mean, standDeviation):\n",
    "    e = math.exp(-(math.pow(x-mean,2)/(2*math.pow(standDeviation,2))))\n",
    "    return (1 / (math.sqrt(2*math.pi) * standDeviation)) * e"
   ]
  },
  {
   "cell_type": "code",
   "execution_count": 57,
   "metadata": {},
   "outputs": [],
   "source": [
    "def classProb(s, iv):\n",
    "    prob = {}\n",
    "    for cv, cs in s.items():\n",
    "        prob[cv] = 1\n",
    "        for i in range(len(cs)):\n",
    "            mean, standDeviation = cs[i]\n",
    "            x = iv[i]\n",
    "            prob[cv] *= Prob(x, mean, standDeviation)\n",
    "    return prob"
   ]
  },
  {
   "cell_type": "code",
   "execution_count": 58,
   "metadata": {},
   "outputs": [],
   "source": [
    "def p(s, iv):\n",
    "    prob = classProb(s, iv)\n",
    "    l, p = None, -1\n",
    "    for cv, pro in prob.items():\n",
    "        if l is None or pro > p:\n",
    "            p = pro\n",
    "            l = cv\n",
    "    return l"
   ]
  },
  {
   "cell_type": "code",
   "execution_count": 59,
   "metadata": {},
   "outputs": [],
   "source": [
    "def prediction(s, test):\n",
    "    pd = []\n",
    "    for i in range(len(test)):\n",
    "        r = p(s, test[i])\n",
    "        pd.append(r)\n",
    "    return pd"
   ]
  },
  {
   "cell_type": "code",
   "execution_count": 60,
   "metadata": {},
   "outputs": [
    {
     "name": "stdout",
     "output_type": "stream",
     "text": [
      " Heart Dataset loaded\n",
      "\n",
      "      age  sex  cp  trestbps  chol  fbs  restecg  thalach  exang  oldpeak  \\\n",
      "0     63    1   3       145   233    1        0      150      0      2.3   \n",
      "1     37    1   2       130   250    0        1      187      0      3.5   \n",
      "2     41    0   1       130   204    0        0      172      0      1.4   \n",
      "3     56    1   1       120   236    0        1      178      0      0.8   \n",
      "4     57    0   0       120   354    0        1      163      1      0.6   \n",
      "..   ...  ...  ..       ...   ...  ...      ...      ...    ...      ...   \n",
      "298   57    0   0       140   241    0        1      123      1      0.2   \n",
      "299   45    1   3       110   264    0        1      132      0      1.2   \n",
      "300   68    1   0       144   193    1        1      141      0      3.4   \n",
      "301   57    1   0       130   131    0        1      115      1      1.2   \n",
      "302   57    0   1       130   236    0        0      174      0      0.0   \n",
      "\n",
      "     slope  ca  thal  target  \n",
      "0        0   0     1       1  \n",
      "1        0   0     2       1  \n",
      "2        2   0     2       1  \n",
      "3        2   0     2       1  \n",
      "4        2   0     2       1  \n",
      "..     ...  ..   ...     ...  \n",
      "298      1   0     3       0  \n",
      "299      1   0     3       0  \n",
      "300      1   2     3       0  \n",
      "301      1   1     3       0  \n",
      "302      1   1     2       0  \n",
      "\n",
      "[303 rows x 14 columns]\n",
      "Normalize Data: \n",
      "   Data Normalized Done\n",
      "\n",
      "\n",
      "\n",
      "Training Set(80%) = 242 \n",
      "Test Set(20%) = 61\n",
      "\n",
      "\n",
      "Training Data: \n",
      "   ---Training Data is Split ---\n",
      "\n",
      "\n",
      " Testing Data:\n",
      " \n",
      "   ---Test Data is Split---\n",
      "\n",
      "\n",
      "Confusion Matrix:\n",
      " [[46 15]\n",
      " [ 0  0]]\n",
      "\n",
      "True Positive: 46\n",
      "False Positive: 15\n",
      "False Negative: 0\n",
      "True Negative: 0\n",
      "Accuracy: 0.754\n",
      "Precision: 0.754\n",
      "Recall: nan\n",
      "Fscore: nan\n"
     ]
    },
    {
     "name": "stderr",
     "output_type": "stream",
     "text": [
      "<ipython-input-60-a49d5bfb4f84>:77: RuntimeWarning: invalid value encountered in true_divide\n",
      "  recall = tn / float(tn+fn)\n"
     ]
    }
   ],
   "source": [
    "#main code\n",
    "df = pd.read_csv('heart.csv')\n",
    "data = df.to_numpy()\n",
    "for i in range(len(data)):\n",
    "    data[i] = [float(x) for x in data[i]]\n",
    "print(' Heart Dataset loaded\\n\\n',df)\n",
    "\n",
    "#Normalize the data\n",
    "print('Normalize Data: ')\n",
    "new_data = df.to_numpy()\n",
    "for i in range(len(data[0])):\n",
    "    new_data[i] = normalize(data[i])\n",
    "print('   Data Normalized Done\\n\\n')\n",
    "\n",
    "#spliting data for Training and Testing\n",
    "m = len(new_data)\n",
    "train_end = int(0.8 * m)\n",
    "train = data[:train_end]\n",
    "test = data[train_end:]\n",
    "print('\\nTraining Set(80%) = {0} \\nTest Set(20%) = {1}\\n\\n'.format(len(train), len(test)))\n",
    "\n",
    "#sumeriesing data (Training part)\n",
    "print('Training Data: ')\n",
    "sep = {}\n",
    "for i in range(len(data)):\n",
    "    vector = data[i]\n",
    "    if (vector[-1] not in sep):\n",
    "        sep[vector[-1]] = []\n",
    "    sep[vector[-1]].append(vector)\n",
    "s = {}\n",
    "for cv, t in sep.items():\n",
    "    s[cv] = training(t)\n",
    "print('   ---Training Data is Split ---\\n\\n')\n",
    "\n",
    "# testing part (pd)\n",
    "print(' Testing Data:\\n ')\n",
    "pd = prediction(s, test)\n",
    "print('   ---Test Data is Split---\\n\\n')\n",
    "\n",
    "#confusion matrix\n",
    "actual = [row[-1] for row in test]\n",
    "def confusion_matrix(actual, predicted):\n",
    "    classes       = np.unique(np.concatenate((actual,predicted)))\n",
    "    confusion_mtx = np.empty((len(classes),len(classes)),dtype=np.int)\n",
    "    for i,a in enumerate(classes):\n",
    "        for j,p in enumerate(classes):\n",
    "            confusion_mtx[i,j] = np.where((actual==a)*(predicted==p))[0].shape[0]\n",
    "    return confusion_mtx\n",
    "\n",
    "results = confusion_matrix(actual, pd)\n",
    "\n",
    "# Calculate Accuracy \n",
    "def accuracyCalculation(actual, pd):\n",
    "    correct = 0\n",
    "    for x in range(len(actual)):\n",
    "        if actual[x] == pd[x]:\n",
    "            correct += 1\n",
    "    return (correct/float(len(actual)))\n",
    "accuracy = accuracyCalculation(actual, pd)\n",
    "\n",
    "\n",
    "print('Confusion Matrix:\\n {0}\\n'.format(results))\n",
    "\n",
    "tp=results[0][0]\n",
    "fp=results[0][1]\n",
    "fn=results[1][0]\n",
    "tn=results[1][1]\n",
    "\n",
    "\n",
    "print('True Positive: {0}'.format(tp))\n",
    "print('False Positive: {0}'.format(fp))\n",
    "print('False Negative: {0}'.format(fn))\n",
    "print('True Negative: {0}'.format(tn))\n",
    "print('Accuracy: %.3f' % accuracy)\n",
    "precision = tp / float(fp+tp)\n",
    "print('Precision: %.3f' % precision)\n",
    "recall = tn / float(tn+fn)\n",
    "print('Recall: %.3f' % recall)\n",
    "fscore = 2*precision*recall / float(precision + recall)\n",
    "print('Fscore: %.3f' % fscore)\n",
    "\n",
    "\n"
   ]
  },
  {
   "cell_type": "code",
   "execution_count": null,
   "metadata": {},
   "outputs": [],
   "source": []
  },
  {
   "cell_type": "code",
   "execution_count": null,
   "metadata": {},
   "outputs": [],
   "source": []
  }
 ],
 "metadata": {
  "kernelspec": {
   "display_name": "Python 3",
   "language": "python",
   "name": "python3"
  },
  "language_info": {
   "codemirror_mode": {
    "name": "ipython",
    "version": 3
   },
   "file_extension": ".py",
   "mimetype": "text/x-python",
   "name": "python",
   "nbconvert_exporter": "python",
   "pygments_lexer": "ipython3",
   "version": "3.8.3"
  }
 },
 "nbformat": 4,
 "nbformat_minor": 4
}
