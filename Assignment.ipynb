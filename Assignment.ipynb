{
 "cells": [
  {
   "cell_type": "markdown",
   "metadata": {},
   "source": [
    "# Importing Libraries "
   ]
  },
  {
   "cell_type": "code",
   "execution_count": null,
   "metadata": {},
   "outputs": [],
   "source": [
    "import pandas as pd\n",
    "import numpy as np\n",
    "\n",
    "from sklearn.decomposition import TruncatedSVD\n",
    "from sklearn.preprocessing import StandardScaler\n",
    "\n",
    "from sklearn.naive_bayes import GaussianNB\n",
    "from sklearn.neighbors import KNeighborsClassifier\n",
    "from sklearn.linear_model import LogisticRegression\n",
    "\n",
    "from sklearn.model_selection import GridSearchCV\n",
    "\n",
    "from sklearn import metrics\n",
    "\n",
    "import warnings\n",
    "warnings.filterwarnings('ignore')"
   ]
  },
  {
   "cell_type": "markdown",
   "metadata": {},
   "source": [
    "# Loading Training and Test Data "
   ]
  },
  {
   "cell_type": "code",
   "execution_count": null,
   "metadata": {},
   "outputs": [],
   "source": [
    "train = pd.read_csv('fashion-mnist_train.csv')\n",
    "test = pd.read_csv('fashion-mnist_test.csv')"
   ]
  },
  {
   "cell_type": "code",
   "execution_count": null,
   "metadata": {},
   "outputs": [],
   "source": [
    "X_train = train.iloc[:, 1:]\n",
    "y_train = train.iloc[:, 0] # target values of training dataset\n",
    "X_test = test.iloc[:, 1:]\n",
    "y_test = test.iloc[:, 0] # target values of testing dataset"
   ]
  },
  {
   "cell_type": "markdown",
   "metadata": {},
   "source": [
    "# Reducing the Number of Dimensions of the Training Data"
   ]
  },
  {
   "cell_type": "code",
   "execution_count": null,
   "metadata": {},
   "outputs": [],
   "source": [
    "# Scaling the Data\n",
    "from sklearn.preprocessing import StandardScaler\n",
    "X_train_scaled = StandardScaler().fit_transform(X_train)\n",
    "X_test_scaled = StandardScaler().fit_transform(X_test)"
   ]
  },
  {
   "cell_type": "code",
   "execution_count": null,
   "metadata": {},
   "outputs": [],
   "source": [
    "# Using SVD to reduce the number of dimensions of the training data set\n",
    "svd = TruncatedSVD(n_components=150, random_state=42)\n",
    "svd.fit(X_train_scaled)"
   ]
  },
  {
   "cell_type": "code",
   "execution_count": null,
   "metadata": {},
   "outputs": [],
   "source": [
    "# 150 components were selected\n",
    "print(svd.explained_variance_ratio_.sum())"
   ]
  },
  {
   "cell_type": "code",
   "execution_count": null,
   "metadata": {},
   "outputs": [],
   "source": [
    "# Variance Rations of each feature in the dataset\n",
    "evr = svd.explained_variance_ratio_\n",
    "evr_df = pd.DataFrame(evr, index=[('C'+ str(i+1)) for i in range(len(evr))])\n",
    "evr_df"
   ]
  },
  {
   "cell_type": "code",
   "execution_count": null,
   "metadata": {},
   "outputs": [],
   "source": [
    "# Transforming the datasets\n",
    "X_train_svd = svd.transform(X_train_scaled)\n",
    "X_train_svd"
   ]
  },
  {
   "cell_type": "code",
   "execution_count": null,
   "metadata": {},
   "outputs": [],
   "source": [
    "# Using SVD to reduce the number of dimensions of the training data set\n",
    "svd = TruncatedSVD(n_components=150, random_state=42)\n",
    "svd.fit(X_test_scaled)"
   ]
  },
  {
   "cell_type": "code",
   "execution_count": null,
   "metadata": {},
   "outputs": [],
   "source": [
    "# 150 components were selected\n",
    "print(svd.explained_variance_ratio_.sum())"
   ]
  },
  {
   "cell_type": "code",
   "execution_count": null,
   "metadata": {},
   "outputs": [],
   "source": [
    "# Variance Rations of each feature in the dataset\n",
    "evr = svd.explained_variance_ratio_\n",
    "evr_df = pd.DataFrame(evr, index=[('C'+ str(i+1)) for i in range(len(evr))])\n",
    "evr_df"
   ]
  },
  {
   "cell_type": "code",
   "execution_count": null,
   "metadata": {},
   "outputs": [],
   "source": [
    "# Transforming the datasets\n",
    "X_test_svd = svd.transform(X_test_scaled)\n",
    "X_test_svd"
   ]
  },
  {
   "cell_type": "markdown",
   "metadata": {},
   "source": [
    "# Training and Testing Naive Bayes "
   ]
  },
  {
   "cell_type": "markdown",
   "metadata": {},
   "source": [
    "## Original Dataset"
   ]
  },
  {
   "cell_type": "code",
   "execution_count": null,
   "metadata": {},
   "outputs": [],
   "source": [
    "gNB = GaussianNB()\n",
    "gNB.fit(X_train,y_train)\n",
    "nb_predict = gNB.predict(X_test)\n",
    "\n",
    "print(metrics.classification_report(y_test, nb_predict))\n",
    "average_accuracy = np.mean(y_test == nb_predict) * 100\n",
    "print(\"The average test accuracy of Gaussian Naive Bayes Classifier is {0:.1f}%.\".format(average_accuracy))"
   ]
  },
  {
   "cell_type": "markdown",
   "metadata": {},
   "source": [
    "## Processed Dataset "
   ]
  },
  {
   "cell_type": "code",
   "execution_count": null,
   "metadata": {},
   "outputs": [],
   "source": [
    "gNB = GaussianNB()\n",
    "gNB.fit(X_train_svd,y_train)\n",
    "nb_predict = gNB.predict(X_test_svd)\n",
    "\n",
    "print(metrics.classification_report(y_test, nb_predict))\n",
    "average_accuracy = np.mean(y_test == nb_predict) * 100\n",
    "print(\"The average test accuracy of Gaussian Naive Bayes Classifier is {0:.1f}%.\".format(average_accuracy))"
   ]
  },
  {
   "cell_type": "markdown",
   "metadata": {},
   "source": [
    "# Training and Testing KNN"
   ]
  },
  {
   "cell_type": "markdown",
   "metadata": {},
   "source": [
    "## Default Parameters"
   ]
  },
  {
   "cell_type": "markdown",
   "metadata": {},
   "source": [
    "### Original Dataset"
   ]
  },
  {
   "cell_type": "code",
   "execution_count": null,
   "metadata": {},
   "outputs": [],
   "source": [
    "knn = KNeighborsClassifier()\n",
    "knn.fit(X_train,y_train)\n",
    "knn_predict = knn.predict(X_test)\n",
    "\n",
    "print(metrics.classification_report(y_test, knn_predict))\n",
    "average_accuracy = np.mean(y_test == knn_predict) * 100\n",
    "print(\"The average test accuracy of the KNeighbors Classifier is {0:.1f}%.\".format(average_accuracy))"
   ]
  },
  {
   "cell_type": "markdown",
   "metadata": {},
   "source": [
    "### Processed Dataset "
   ]
  },
  {
   "cell_type": "code",
   "execution_count": null,
   "metadata": {},
   "outputs": [],
   "source": [
    "knn = KNeighborsClassifier()\n",
    "knn.fit(X_train_svd,y_train)\n",
    "knn_predict = knn.predict(X_test_svd)\n",
    "\n",
    "print(metrics.classification_report(y_test, knn_predict))\n",
    "average_accuracy = np.mean(y_test == knn_predict) * 100\n",
    "print(\"The average test accuracy of the KNeighbors Classifier is {0:.1f}%.\".format(average_accuracy))"
   ]
  },
  {
   "cell_type": "markdown",
   "metadata": {},
   "source": [
    "## Hypertuning KNN "
   ]
  },
  {
   "cell_type": "code",
   "execution_count": null,
   "metadata": {},
   "outputs": [],
   "source": [
    "knn_hypertune_params = dict(n_neighbors=list(range(5,10)))\n",
    "\n",
    "knn_hypertune = KNeighborsClassifier()\n",
    "\n",
    "knn_grid = GridSearchCV(knn_hypertune, knn_hypertune_params, n_jobs=6, verbose=5)\n",
    "\n",
    "knn_hypertuned = knn_grid.fit(X_train_svd,y_train)\n",
    "\n",
    "best_knn_model = knn_hypertuned.best_estimator_\n",
    "print(f'Best estimator: {best_knn_model}')"
   ]
  },
  {
   "cell_type": "code",
   "execution_count": null,
   "metadata": {},
   "outputs": [],
   "source": [
    "knn_predict = best_knn_model.predict(X_test_svd)\n",
    "\n",
    "print(metrics.classification_report(y_test, knn_predict))\n",
    "average_accuracy = np.mean(y_test == knn_predict) * 100\n",
    "print(\"The average test accuracy of the KNeighbors Classifier is {0:.1f}%.\".format(average_accuracy))"
   ]
  },
  {
   "cell_type": "markdown",
   "metadata": {},
   "source": [
    "# Training and Testing MLR"
   ]
  },
  {
   "cell_type": "markdown",
   "metadata": {},
   "source": [
    "## Default Parameters"
   ]
  },
  {
   "cell_type": "markdown",
   "metadata": {},
   "source": [
    "### Original Dataset"
   ]
  },
  {
   "cell_type": "code",
   "execution_count": null,
   "metadata": {},
   "outputs": [],
   "source": [
    "mlr = LogisticRegression()\n",
    "mlr.fit(X_train,y_train)\n",
    "mlr_predict = mlr.predict(X_test)\n",
    "\n",
    "print(metrics.classification_report(y_test, mlr_predict))\n",
    "average_accuracy = np.mean(y_test == mlr_predict) * 100\n",
    "print(\"The average test accuracy of the Multinomial Logistic Regression is {0:.1f}%.\".format(average_accuracy))"
   ]
  },
  {
   "cell_type": "markdown",
   "metadata": {},
   "source": [
    "### Processed Dataset "
   ]
  },
  {
   "cell_type": "code",
   "execution_count": null,
   "metadata": {},
   "outputs": [],
   "source": [
    "mlr = LogisticRegression()\n",
    "mlr.fit(X_train_svd,y_train)\n",
    "mlr_predict = mlr.predict(X_test_svd)\n",
    "\n",
    "print(metrics.classification_report(y_test, mlr_predict))\n",
    "average_accuracy = np.mean(y_test == mlr_predict) * 100\n",
    "print(\"The average test accuracy of the Multinomial Logistic Regression is {0:.1f}%.\".format(average_accuracy))"
   ]
  },
  {
   "cell_type": "markdown",
   "metadata": {},
   "source": [
    "# Conclusion"
   ]
  },
  {
   "cell_type": "markdown",
   "metadata": {},
   "source": [
    "**Naive Bayes Classifier**\n",
    "- Original Dataset: \n",
    "    - Accuracy: 0.591\n",
    "    \n",
    "- Processed Dataset:\n",
    "    - Accuracy: 0.552\n",
    "    \n",
    "**K Nearest Neighbors Classifier**\n",
    "- Original Dataset:\n",
    "    - Accuracy: 0.86\n",
    "    \n",
    "- Processed Dataset:\n",
    "    - Accuracy: 0.722\n",
    "    \n",
    "- Hypertuning:\n",
    "    - Accuracy: 0.724\n",
    "   \n",
    "**Multinomial Logistic Regression**\n",
    "- Original Dataset:\n",
    "    - Accuracy: 0.854\n",
    "\n",
    "- Processed Dataset:\n",
    "    - Accuracy: 0.666"
   ]
  },
  {
   "cell_type": "code",
   "execution_count": null,
   "metadata": {},
   "outputs": [],
   "source": []
  }
 ],
 "metadata": {
  "kernelspec": {
   "display_name": "Python 3",
   "language": "python",
   "name": "python3"
  },
  "language_info": {
   "codemirror_mode": {
    "name": "ipython",
    "version": 3
   },
   "file_extension": ".py",
   "mimetype": "text/x-python",
   "name": "python",
   "nbconvert_exporter": "python",
   "pygments_lexer": "ipython3",
   "version": "3.8.3"
  },
  "toc": {
   "base_numbering": 1,
   "nav_menu": {},
   "number_sections": true,
   "sideBar": true,
   "skip_h1_title": false,
   "title_cell": "Table of Contents",
   "title_sidebar": "Contents",
   "toc_cell": false,
   "toc_position": {},
   "toc_section_display": true,
   "toc_window_display": false
  }
 },
 "nbformat": 4,
 "nbformat_minor": 4
}
