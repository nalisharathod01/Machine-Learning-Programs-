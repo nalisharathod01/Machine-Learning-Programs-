{
 "cells": [
  {
   "cell_type": "code",
   "execution_count": 13,
   "metadata": {},
   "outputs": [],
   "source": [
    "import numpy as np\n",
    "from numpy import *\n",
    "from matplotlib import pyplot as plt"
   ]
  },
  {
   "cell_type": "code",
   "execution_count": 14,
   "metadata": {},
   "outputs": [],
   "source": [
    "X = []  \n",
    "y = []   "
   ]
  },
  {
   "cell_type": "code",
   "execution_count": 15,
   "metadata": {},
   "outputs": [],
   "source": [
    "def loadDataSet():\n",
    "    f=open('Question5.txt')\n",
    "    # Read data line by line and use strip to remove the Spaces \n",
    "    for line in f.readlines():\n",
    "        nline=line.strip().split()\n",
    "        # X has two columns\n",
    "        X.append([float(nline[0]),float(nline[1])])\n",
    "        y.append(int(nline[2]))\n",
    "    return mat(X).T,mat(y)"
   ]
  },
  {
   "cell_type": "code",
   "execution_count": 16,
   "metadata": {},
   "outputs": [
    {
     "data": {
      "image/png": "[encoded data removed]",
      "text/plain": [
       "<Figure size 432x288 with 1 Axes>"
      ]
     },
     "metadata": {
      "needs_background": "light"
     },
     "output_type": "display_data"
    }
   ],
   "source": [
    "X,y=loadDataSet()\n",
    "colors = [i for i in y]\n",
    "fig = plt.figure()\n",
    "ax1 = fig.add_subplot(111)\n",
    "plt.title('Scatter value of X , y')\n",
    "ax1.scatter([X[0][:,:]],[X[1][:,:]],c=colors,marker=\"v\",label='X')\n",
    "plt.xlabel('X0')\n",
    "plt.ylabel('X1')\n",
    "plt.show()"
   ]
  },
  {
   "cell_type": "code",
   "execution_count": 17,
   "metadata": {},
   "outputs": [],
   "source": [
    "def sigmoid(x):\n",
    "    #==========\n",
    "    return 1/(1+np.exp(-x))\n",
    "    #=========="
   ]
  },
  {
   "cell_type": "code",
   "execution_count": 18,
   "metadata": {},
   "outputs": [],
   "source": [
    "def Logistic(X,y,W,b,n,alpha,iterations):\n",
    "    \n",
    "    '''\n",
    "    X: input data\n",
    "    y: labels\n",
    "    W: weight\n",
    "    b: bias\n",
    "    n: number of samples\n",
    "    alpha: learning rate\n",
    "    iterations: the number of iteration\n",
    "    '''\n",
    "    \n",
    "    J = zeros((iterations,1))\n",
    "    for i in range(iterations):      \n",
    "        # step1 forward propagation\n",
    "        #==========\n",
    "        z = np.dot(W,X) + b\n",
    "        A = sigmoid(z)\n",
    "        #==========\n",
    "        # compute cost function\n",
    "        #==========\n",
    "        #g= y-z\n",
    "        #g = np.square(g)\n",
    "        \n",
    "        loss1 = -np.dot(y,np.log(A).T)\n",
    "        loss2 = np.dot((1-y),np.log(1-A).T)\n",
    "        cost = (loss1+loss2)\n",
    "        cost = -cost / n\n",
    "        J[i] = cost\n",
    "        \n",
    "        #J[i]=-1/n *(np.dot(y,np.log(A.T))+np.dot((1-y),np.log((1-A).T)))\n",
    "        #==========\n",
    "        \n",
    "        # step2 backpropagation\n",
    "        #==========\n",
    "        dy = A-y\n",
    "        dW = (np.dot(dy,X.T))/n\n",
    "        db = np.sum(dy)/n\n",
    "        #==========\n",
    "        \n",
    "        # step3 gradient descent\n",
    "        #==========\n",
    "        dW = np.dot(dW,alpha)\n",
    "        W = W - dW\n",
    "        db = np.dot(db,alpha)\n",
    "        b = b - db\n",
    "        \n",
    "        if A[i] <= 0.5:\n",
    "            y_hat.append(0)\n",
    "        else:\n",
    "            y_hat.append(1)\n",
    "        #==========\n",
    "        \n",
    "    return y_hat,W,b,J"
   ]
  },
  {
   "cell_type": "code",
   "execution_count": 19,
   "metadata": {},
   "outputs": [],
   "source": [
    "def plotBestFit(X,y,J,W,b,n,y_hat):\n",
    "    \n",
    "    '''\n",
    "    X: input data\n",
    "    y: labels\n",
    "    J: cost values\n",
    "    W: weight\n",
    "    b: bias\n",
    "    n: number of samples\n",
    "    y_hat: the predict labels from Logistic Regression \n",
    "    '''\n",
    "\n",
    "    # Plot cost function figure\n",
    "    #==========\n",
    "    plt.title('The cost function')\n",
    "    plt.plot(J,label=\"loss\")\n",
    "    plt.xlabel('Epcho')\n",
    "    plt.ylabel('Loss')\n",
    "    plt.show()\n",
    "    #==========\n",
    "    \n",
    "    # Plot the final classification figure\n",
    "    #==========\n",
    "\n",
    "    x1 = (-W[0] * X[:,0]) / W[1]\n",
    "    x2 = (-W[0] * X[:,1]) / W[1]\n",
    "\n",
    "    colors = [i for i in y]\n",
    "    fig = plt.figure()\n",
    "    ax1 = fig.add_subplot(111)\n",
    "    plt.title('Scatter value of the final classification')\n",
    "    ax1.scatter([X[0][:,:]],[X[1][:,:]],c=colors,marker=\"s\",label='X')\n",
    "    plt.plot(x1,x2,c='b',marker=\"o\")\n",
    "    plt.xlabel('X')\n",
    "    plt.ylabel('Y')\n",
    "    plt.show()\n",
    "    #==========\n",
    "    \n",
    "    "
   ]
  },
  {
   "cell_type": "code",
   "execution_count": 20,
   "metadata": {},
   "outputs": [],
   "source": [
    "num = X.shape[0]  # number of features\n",
    "n = X.shape[1] # number of samples"
   ]
  },
  {
   "cell_type": "code",
   "execution_count": 21,
   "metadata": {},
   "outputs": [],
   "source": [
    "# Initianlize the weights and bias\n",
    "#==========\n",
    "#todo '''complete the code to initianlize the weights and bias'''\n",
    "#==========\n",
    "W = [random.uniform(0, 1), random.uniform(0, 1)]\n",
    "W = np.asmatrix(W)\n",
    "b = random.uniform(0, 1)"
   ]
  },
  {
   "cell_type": "code",
   "execution_count": 22,
   "metadata": {},
   "outputs": [],
   "source": [
    "# Learning rate\n",
    "#==========\n",
    "#todo '''try different learning rates''\n",
    "#==========\n",
    "#[0.001, 0.003, 0.005, 0.01]\n",
    "alpha= 0.005 "
   ]
  },
  {
   "cell_type": "code",
   "execution_count": 23,
   "metadata": {},
   "outputs": [],
   "source": [
    "# Iterations\n",
    "#==========\n",
    "#todo '''try different Iterations''\n",
    "#==========\n",
    "#[100, 200, 300, 400]\n",
    "iterations = 300"
   ]
  },
  {
   "cell_type": "code",
   "execution_count": 24,
   "metadata": {},
   "outputs": [
    {
     "ename": "ValueError",
     "evalue": "The truth value of an array with more than one element is ambiguous. Use a.any() or a.all()",
     "output_type": "error",
     "traceback": [
      "\u001b[0;31m---------------------------------------------------------------------------\u001b[0m",
      "\u001b[0;31mValueError\u001b[0m                                Traceback (most recent call last)",
      "\u001b[0;32m<ipython-input-24-752af9cfdd85>\u001b[0m in \u001b[0;36m<module>\u001b[0;34m\u001b[0m\n\u001b[1;32m      1\u001b[0m \u001b[0;31m# Get the results from Logistic function\u001b[0m\u001b[0;34m\u001b[0m\u001b[0;34m\u001b[0m\u001b[0;34m\u001b[0m\u001b[0m\n\u001b[0;32m----> 2\u001b[0;31m \u001b[0my_hat\u001b[0m\u001b[0;34m,\u001b[0m\u001b[0mW\u001b[0m\u001b[0;34m,\u001b[0m\u001b[0mb\u001b[0m\u001b[0;34m,\u001b[0m\u001b[0mJ\u001b[0m \u001b[0;34m=\u001b[0m \u001b[0mLogistic\u001b[0m\u001b[0;34m(\u001b[0m\u001b[0mX\u001b[0m\u001b[0;34m,\u001b[0m \u001b[0my\u001b[0m\u001b[0;34m,\u001b[0m \u001b[0mW\u001b[0m\u001b[0;34m,\u001b[0m \u001b[0mb\u001b[0m\u001b[0;34m,\u001b[0m \u001b[0mn\u001b[0m\u001b[0;34m,\u001b[0m \u001b[0malpha\u001b[0m\u001b[0;34m,\u001b[0m \u001b[0miterations\u001b[0m\u001b[0;34m)\u001b[0m\u001b[0;34m\u001b[0m\u001b[0;34m\u001b[0m\u001b[0m\n\u001b[0m",
      "\u001b[0;32m<ipython-input-18-fea52e195669>\u001b[0m in \u001b[0;36mLogistic\u001b[0;34m(X, y, W, b, n, alpha, iterations)\u001b[0m\n\u001b[1;32m     46\u001b[0m         \u001b[0mb\u001b[0m \u001b[0;34m=\u001b[0m \u001b[0mb\u001b[0m \u001b[0;34m-\u001b[0m \u001b[0mdb\u001b[0m\u001b[0;34m\u001b[0m\u001b[0;34m\u001b[0m\u001b[0m\n\u001b[1;32m     47\u001b[0m \u001b[0;34m\u001b[0m\u001b[0m\n\u001b[0;32m---> 48\u001b[0;31m         \u001b[0;32mif\u001b[0m \u001b[0mA\u001b[0m\u001b[0;34m[\u001b[0m\u001b[0mi\u001b[0m\u001b[0;34m]\u001b[0m \u001b[0;34m<=\u001b[0m \u001b[0;36m0.5\u001b[0m\u001b[0;34m:\u001b[0m\u001b[0;34m\u001b[0m\u001b[0;34m\u001b[0m\u001b[0m\n\u001b[0m\u001b[1;32m     49\u001b[0m             \u001b[0my_hat\u001b[0m\u001b[0;34m.\u001b[0m\u001b[0mappend\u001b[0m\u001b[0;34m(\u001b[0m\u001b[0;36m0\u001b[0m\u001b[0;34m)\u001b[0m\u001b[0;34m\u001b[0m\u001b[0;34m\u001b[0m\u001b[0m\n\u001b[1;32m     50\u001b[0m         \u001b[0;32melse\u001b[0m\u001b[0;34m:\u001b[0m\u001b[0;34m\u001b[0m\u001b[0;34m\u001b[0m\u001b[0m\n",
      "\u001b[0;31mValueError\u001b[0m: The truth value of an array with more than one element is ambiguous. Use a.any() or a.all()"
     ]
    }
   ],
   "source": [
    "# Get the results from Logistic function\n",
    "y_hat,W,b,J = Logistic(X, y, W, b, n, alpha, iterations)"
   ]
  },
  {
   "cell_type": "code",
   "execution_count": 25,
   "metadata": {},
   "outputs": [
    {
     "ename": "NameError",
     "evalue": "name 'J' is not defined",
     "output_type": "error",
     "traceback": [
      "\u001b[0;31m---------------------------------------------------------------------------\u001b[0m",
      "\u001b[0;31mNameError\u001b[0m                                 Traceback (most recent call last)",
      "\u001b[0;32m<ipython-input-25-9fb326e8a1d1>\u001b[0m in \u001b[0;36m<module>\u001b[0;34m\u001b[0m\n\u001b[1;32m      1\u001b[0m \u001b[0;31m# Plot figures\u001b[0m\u001b[0;34m\u001b[0m\u001b[0;34m\u001b[0m\u001b[0;34m\u001b[0m\u001b[0m\n\u001b[0;32m----> 2\u001b[0;31m \u001b[0mplotBestFit\u001b[0m\u001b[0;34m(\u001b[0m\u001b[0mX\u001b[0m\u001b[0;34m,\u001b[0m \u001b[0my\u001b[0m\u001b[0;34m,\u001b[0m \u001b[0mJ\u001b[0m\u001b[0;34m,\u001b[0m \u001b[0mW\u001b[0m\u001b[0;34m,\u001b[0m \u001b[0mb\u001b[0m\u001b[0;34m,\u001b[0m \u001b[0mn\u001b[0m\u001b[0;34m,\u001b[0m \u001b[0my_hat\u001b[0m\u001b[0;34m)\u001b[0m\u001b[0;34m\u001b[0m\u001b[0;34m\u001b[0m\u001b[0m\n\u001b[0m",
      "\u001b[0;31mNameError\u001b[0m: name 'J' is not defined"
     ]
    }
   ],
   "source": [
    "# Plot figures\n",
    "plotBestFit(X, y, J, W, b, n, y_hat)"
   ]
  },
  {
   "cell_type": "code",
   "execution_count": null,
   "metadata": {},
   "outputs": [],
   "source": []
  },
  {
   "cell_type": "code",
   "execution_count": null,
   "metadata": {},
   "outputs": [],
   "source": []
  },
  {
   "cell_type": "code",
   "execution_count": null,
   "metadata": {},
   "outputs": [],
   "source": []
  }
 ],
 "metadata": {
  "kernelspec": {
   "display_name": "Python 3",
   "language": "python",
   "name": "python3"
  },
  "language_info": {
   "codemirror_mode": {
    "name": "ipython",
    "version": 3
   },
   "file_extension": ".py",
   "mimetype": "text/x-python",
   "name": "python",
   "nbconvert_exporter": "python",
   "pygments_lexer": "ipython3",
   "version": "3.8.3"
  }
 },
 "nbformat": 4,
 "nbformat_minor": 2
}
